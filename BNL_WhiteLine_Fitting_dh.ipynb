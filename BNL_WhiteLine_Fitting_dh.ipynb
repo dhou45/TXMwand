{
 "cells": [
  {
   "cell_type": "code",
   "execution_count": 1,
   "metadata": {},
   "outputs": [
    {
     "name": "stdout",
     "output_type": "stream",
     "text": [
      "\u001b[04m\u001b[01m\u001b[34m     Section 1 finished     \n"
     ]
    }
   ],
   "source": [
    "%matplotlib ipympl\n",
    "\n",
    "#original\n",
    "import xanes_math as xm\n",
    "import xanes_analysis as xa\n",
    "\n",
    "import h5py, tifffile\n",
    "from pathlib import Path\n",
    "import os, sys\n",
    "import matplotlib.pyplot as plt\n",
    "import numpy as np\n",
    "from importlib import reload\n",
    "import skimage.morphology as skm\n",
    "import scipy.ndimage as spn\n",
    "from numpy import savetxt\n",
    "xa = reload(xa)\n",
    "plt.rcParams['figure.figsize'] = [14, 20]\n",
    "print('\\033[04m\\033[01m\\033[34m     Section 1 finished     ')"
   ]
  },
  {
   "cell_type": "code",
   "execution_count": 2,
   "metadata": {},
   "outputs": [
    {
     "name": "stdout",
     "output_type": "stream",
     "text": [
      "\u001b[04m\u001b[01m\u001b[34m     Section 2 finished     \n"
     ]
    }
   ],
   "source": [
    "# edge_offset from Co\n",
    "edge_offset_2_Co = 8.333 - 8.333\n",
    "# estimated edge energy\n",
    "edge_eng = 8.333 + edge_offset_2_Co\n",
    "# end poit of the pre-edge relative to the edge_eng in keV\n",
    "pre_ee = -0.05\n",
    "# start point of the post-edge relative to the edge_eng in keV\n",
    "post_es = 0.1\n",
    "# how many times of the edge jump magnitude should be compared to the pre-edge standard deviation\n",
    "edge_jump_threshold = 3\n",
    "# how much should the pre_edge be offset up for validating if the post edge trend is in a reasonable range\n",
    "# this is a factor to the pre-edge deviation\n",
    "pre_edge_threshold = 3.5\n",
    "# define an energy range for 0.5 absorption postion fitting\n",
    "ep_eng_s = 8.335 + edge_offset_2_Co\n",
    "ep_eng_e = 8.350 + edge_offset_2_Co\n",
    "# define an energy range for whiteline peak postion fitting\n",
    "#wl_eng_s = 8.345 + edge_offset_2_Co + 0.000\n",
    "#wl_eng_e = 8.355 + edge_offset_2_Co - 0.000\n",
    "\n",
    "# define an energy range for edge_pos display\n",
    "ep_vmin = 8.338 + edge_offset_2_Co\n",
    "ep_vmax = 8.348 + edge_offset_2_Co\n",
    "# define an energy range for whiteline display\n",
    "wl_vmin = 8.340 + edge_offset_2_Co\n",
    "wl_vmax = 8.360 + edge_offset_2_Co\n",
    "# define path and file name to save xanes analysis results; if you use the default path and name as below,\n",
    "# you don't need to change anything. otherwise, give your full path and file name below.\n",
    "#out_fn = os.path.join(str(Path(fn_template).parent), 'xanes_analysis_' + str(Path(fn_template).name)).format(scan_id)\n",
    "#print(out_fn)\n",
    "print('\\033[04m\\033[01m\\033[34m     Section 2 finished     ')"
   ]
  },
  {
   "cell_type": "code",
   "execution_count": 4,
   "metadata": {
    "scrolled": true
   },
   "outputs": [
    {
     "name": "stdout",
     "output_type": "stream",
     "text": [
      "(21, 755, 750, 850)\n",
      "\u001b[04m\u001b[01m\u001b[34m     Section 3 finished     \n"
     ]
    }
   ],
   "source": [
    "fn = []\n",
    "eng = []\n",
    "fn = np.array(fn)\n",
    "eng = np.array(eng)\n",
    "\n",
    "\n",
    "#f_path ='/run/media/VTLinlab/Elements/Gravel2/Gravel2_250/'\n",
    "f_path ='/run/media/VTLinlab/Elements/Gravel2/Gravel2_150/'\n",
    "f_name = \"Single_3D_trial_reg_scan_id_27465-27485_2020-04-26-17-10-56.h5\"\n",
    "fn = f_path+f_name\n",
    "\n",
    "#change h5 file\n",
    "f = h5py.File(fn, 'r')\n",
    "eng = np.array(f['/registration_results/reg_results/eng_list'])\n",
    "imgs_all = f['/registration_results/reg_results/registered_xanes3D']\n",
    "ny = imgs_all.shape[2]\n",
    "nx = imgs_all.shape[3]\n",
    "nz = imgs_all.shape[1]\n",
    "print(imgs_all.shape)\n",
    "\n",
    "print('\\033[04m\\033[01m\\033[34m     Section 3 finished     ')"
   ]
  },
  {
   "cell_type": "code",
   "execution_count": 6,
   "metadata": {},
   "outputs": [
    {
     "data": {
      "application/vnd.jupyter.widget-view+json": {
       "model_id": "a58b6bd8728f43d9b9f80eee10134890",
       "version_major": 2,
       "version_minor": 0
      },
      "text/plain": [
       "Canvas(toolbar=Toolbar(toolitems=[('Home', 'Reset original view', 'home', 'home'), ('Back', 'Back to previous …"
      ]
     },
     "metadata": {},
     "output_type": "display_data"
    },
    {
     "data": {
      "application/vnd.jupyter.widget-view+json": {
       "model_id": "d2d1596396dc436a956c4a9656b40a8a",
       "version_major": 2,
       "version_minor": 0
      },
      "text/plain": [
       "Canvas(toolbar=Toolbar(toolitems=[('Home', 'Reset original view', 'home', 'home'), ('Back', 'Back to previous …"
      ]
     },
     "metadata": {},
     "output_type": "display_data"
    },
    {
     "data": {
      "application/vnd.jupyter.widget-view+json": {
       "model_id": "eb62c5506f6346afaa2387d16dde063f",
       "version_major": 2,
       "version_minor": 0
      },
      "text/plain": [
       "Canvas(toolbar=Toolbar(toolitems=[('Home', 'Reset original view', 'home', 'home'), ('Back', 'Back to previous …"
      ]
     },
     "metadata": {},
     "output_type": "display_data"
    }
   ],
   "source": [
    "imgs = np.ndarray([imgs_all.shape[0], ny, nx])\n",
    "mask = np.ndarray([imgs_all.shape[1], ny, nx])\n",
    "\n",
    "## mask with threshold_ratio\n",
    "#mask_threshold_ratio = 0.25\n",
    "#mask_dilation = 3\n",
    "#for ii in range(imgs_all.shape[1]):\n",
    "#    imgs[idx] = imgs_all[idx, ii]\n",
    "#    mask_threshold = imgs[idx].min().min()+ (imgs[idx].max().max()-imgs[idx].min().min())*mask_threshold_ratio\n",
    "#    mask[ii] = skm.binary_dilation((spn.gaussian_filter(imgs[idx],mask_dilation) > mask_threshold).astype(np.uint8), np.ones([mask_dilation,mask_dilation])).astype(np.uint8)[:]\n",
    "\n",
    "## mask with fixed threshold\n",
    "mask_threshold = 0.002\n",
    "mask_dilation = 3\n",
    "\n",
    "idx = int(imgs_all.shape[0]/2)\n",
    "for ii in range(imgs_all.shape[1]):\n",
    "    imgs[idx] = imgs_all[idx, ii]\n",
    "#    mask[ii] = skm.binary_dilation((imgs[idx] > mask_threshold).astype(np.uint8), np.ones([mask_dilation,mask_dilation])).astype(np.uint8)[:]\n",
    "    mask[ii] = skm.binary_dilation((spn.gaussian_filter(imgs[idx],mask_dilation) > mask_threshold).astype(np.uint8), np.ones([mask_dilation,mask_dilation])).astype(np.uint8)[:]\n",
    "\n",
    "## plot top, middle, bottom slices of the mask * image\n",
    "\n",
    "ii = int(0.05*imgs_all.shape[1])\n",
    "fig = plt.figure()\n",
    "ax3 = fig.add_subplot(1, 3, 1)\n",
    "ax3.set_title('image', fontdict={'fontsize':12})\n",
    "ax3.imshow(imgs_all[idx, ii, :, :])\n",
    "ax4 = fig.add_subplot(1, 3, 2)\n",
    "ax4.set_title('mask', fontdict={'fontsize':12})\n",
    "ax4.imshow(mask[ii, :, :])\n",
    "ax5 = fig.add_subplot(1, 3, 3)\n",
    "ax5.set_title('image x mask', fontdict={'fontsize':12})\n",
    "ax5.imshow(imgs_all[idx, ii, :, :]*mask[ii, :, :])\n",
    "\n",
    "ii = int(0.5*imgs_all.shape[1])\n",
    "fig2 = plt.figure()\n",
    "ax32 = fig2.add_subplot(1, 3, 1)\n",
    "ax32.set_title('image', fontdict={'fontsize':12})\n",
    "ax32.imshow(imgs_all[idx, ii, :, :])\n",
    "ax42 = fig2.add_subplot(1, 3, 2)\n",
    "ax42.set_title('mask', fontdict={'fontsize':12})\n",
    "ax42.imshow(mask[ii, :, :])\n",
    "ax52 = fig2.add_subplot(1, 3, 3)\n",
    "ax52.set_title('image x mask', fontdict={'fontsize':12})\n",
    "ax52.imshow(imgs_all[idx, ii, :, :]*mask[ii, :, :])\n",
    "\n",
    "ii = int(0.95*imgs_all.shape[1])\n",
    "fig3 = plt.figure()\n",
    "ax33 = fig3.add_subplot(1, 3, 1)\n",
    "ax33.set_title('image', fontdict={'fontsize':12})\n",
    "ax33.imshow(imgs_all[idx, ii, :, :])\n",
    "ax43 = fig3.add_subplot(1, 3, 2)\n",
    "ax43.set_title('mask', fontdict={'fontsize':12})\n",
    "ax43.imshow(mask[ii, :, :])\n",
    "ax53 = fig3.add_subplot(1, 3, 3)\n",
    "ax53.set_title('image x mask', fontdict={'fontsize':12})\n",
    "ax53.imshow(imgs_all[idx, ii, :, :]*mask[ii, :, :])\n",
    "\n",
    "plt.show()"
   ]
  },
  {
   "cell_type": "code",
   "execution_count": 7,
   "metadata": {
    "scrolled": false
   },
   "outputs": [
    {
     "data": {
      "application/vnd.jupyter.widget-view+json": {
       "model_id": "d0d10eca6cad4cbe9bcf78bc10f5b9b2",
       "version_major": 2,
       "version_minor": 0
      },
      "text/plain": [
       "Canvas(toolbar=Toolbar(toolitems=[('Home', 'Reset original view', 'home', 'home'), ('Back', 'Back to previous …"
      ]
     },
     "metadata": {},
     "output_type": "display_data"
    }
   ],
   "source": [
    "# plot xanes for slice ii at specific point (x,y)\n",
    "ii = int(0.95*imgs_all.shape[1])\n",
    "\n",
    "for jj in range(imgs_all.shape[0]):\n",
    "    imgs[jj] = imgs_all[jj, ii]\n",
    "    \n",
    "x=450\n",
    "y=320\n",
    "\n",
    "fig = plt.figure()\n",
    "ax1 = fig.add_subplot(1, 1, 1)\n",
    "# rebin 5x5\n",
    "#ax1.plot(eng, imgs[:, y:y+5, x:x+5].mean(axis=(1,2))*mask[ii, y, x])\n",
    "ax1.plot(eng, imgs[:, y, x]*mask[ii, y, x])\n",
    "#ax1.xlim([8.347, 8.355])\n",
    "plt.show()"
   ]
  },
  {
   "cell_type": "code",
   "execution_count": null,
   "metadata": {},
   "outputs": [],
   "source": [
    "# whiteline fitting of imgs, norebin, poly2, with mask\n",
    "#change out file name\n",
    "out_fn = f_path+\"Whiteline_Fitting_norebin_mask_poly2_\"+f_name\n",
    "poly_order = 2\n",
    "\n",
    "#wl_eng_s = 8.344 + edge_offset_2_Co + 0.000\n",
    "#wl_eng_e = 8.353 + edge_offset_2_Co - 0.000\n",
    "wl_eng_s = 7.724 + edge_offset_2_Co + 0.000\n",
    "wl_eng_e = 7.733 + edge_offset_2_Co - 0.000\n",
    "\n",
    "imgs = np.ndarray([imgs_all.shape[0], ny, nx])\n",
    "xanes3d = np.ndarray([imgs_all.shape[1], ny, nx])\n",
    "xana = xa.xanes_analysis(imgs, eng, edge_eng, pre_ee=pre_ee, post_es=post_es, \n",
    "                         edge_jump_threshold=edge_jump_threshold, pre_edge_threshold=pre_edge_threshold)\n",
    "\n",
    "for ii in range(imgs_all.shape[1]):\n",
    "    for jj in range(imgs_all.shape[0]):\n",
    "        imgs[jj] = imgs_all[jj, ii]\n",
    "\n",
    "    xana.spectrum[:] = imgs[:]\n",
    "    xana.fit_whiteline(wl_eng_s, wl_eng_e, poly_order)\n",
    "    xanes3d[ii] = xana.wl_pos[:]*mask[ii]\n",
    "#    xanes3d[ii] = xana.whiteline_pos[:]\n",
    "    \n",
    "xana.save_results(out_fn, dtype='3D_XANES', **{'whiteline': xanes3d})\n",
    "print('results saved')"
   ]
  },
  {
   "cell_type": "code",
   "execution_count": null,
   "metadata": {},
   "outputs": [],
   "source": [
    "# whiteline fitting of imgs, norebin, poly3, with mask\n",
    "#change out file name\n",
    "out_fn = f_path+\"Whiteline_Fitting_norebin_mask_poly3_\"+f_name\n",
    "poly_order = 3\n",
    "\n",
    "#wl_eng_s = 8.344 + edge_offset_2_Co + 0.000\n",
    "#wl_eng_e = 8.353 + edge_offset_2_Co - 0.000\n",
    "wl_eng_s = 7.724 + edge_offset_2_Co + 0.000\n",
    "wl_eng_e = 7.733 + edge_offset_2_Co - 0.000\n",
    "\n",
    "imgs = np.ndarray([imgs_all.shape[0], ny, nx])\n",
    "xanes3d = np.ndarray([imgs_all.shape[1], ny, nx])\n",
    "xana = xa.xanes_analysis(imgs, eng, edge_eng, pre_ee=pre_ee, post_es=post_es, \n",
    "                         edge_jump_threshold=edge_jump_threshold, pre_edge_threshold=pre_edge_threshold)\n",
    "\n",
    "for ii in range(imgs_all.shape[1]):\n",
    "    for jj in range(imgs_all.shape[0]):\n",
    "        imgs[jj] = imgs_all[jj, ii]\n",
    "\n",
    "    xana.spectrum[:] = imgs[:]\n",
    "    xana.fit_whiteline(wl_eng_s, wl_eng_e, poly_order)\n",
    "    xanes3d[ii] = xana.wl_pos[:]*mask[ii]\n",
    "#    xanes3d[ii] = xana.whiteline_pos[:]\n",
    "    \n",
    "xana.save_results(out_fn, dtype='3D_XANES', **{'whiteline': xanes3d})\n",
    "print('results saved')"
   ]
  },
  {
   "cell_type": "code",
   "execution_count": 8,
   "metadata": {},
   "outputs": [],
   "source": [
    "f.close()"
   ]
  },
  {
   "cell_type": "code",
   "execution_count": null,
   "metadata": {},
   "outputs": [],
   "source": []
  },
  {
   "cell_type": "code",
   "execution_count": null,
   "metadata": {},
   "outputs": [],
   "source": [
    "# whiteline fitting of imgs, norebin, poly3, no mask\n",
    "#change out file name\n",
    "out_fn = \"/run/media/VTLinlab/Elements/Gravel3/Gravel3_250/Whiteline_Fitting_norebin_nomask_poly3_3D_trial_reg_scan_id_27528-27548.h5\"\n",
    "poly_order = 3\n",
    "\n",
    "wl_eng_s = 8.344 + edge_offset_2_Co + 0.000\n",
    "wl_eng_e = 8.353 + edge_offset_2_Co - 0.000\n",
    "\n",
    "imgs = np.ndarray([imgs_all.shape[0], ny, nx])\n",
    "xanes3d = np.ndarray([imgs_all.shape[1], ny, nx])\n",
    "xana = xa.xanes_analysis(imgs, eng, edge_eng, pre_ee=pre_ee, post_es=post_es, \n",
    "                         edge_jump_threshold=edge_jump_threshold, pre_edge_threshold=pre_edge_threshold)\n",
    "\n",
    "\n",
    "for ii in range(imgs_all.shape[1]):\n",
    "    for jj in range(imgs_all.shape[0]):\n",
    "        imgs[jj] = imgs_all[jj, ii]\n",
    "\n",
    "    xana.spectrum[:] = imgs[:]\n",
    "    xana.fit_whiteline(wl_eng_s, wl_eng_e, poly_order)\n",
    "#    xanes3d[ii] = xana.wl_pos[:]*mask[ii]\n",
    "    xanes3d[ii] = xana.wl_pos[:]\n",
    "    \n",
    "xana.save_results(out_fn, dtype='3D_XANES', **{'whiteline': xanes3d})\n",
    "print('results saved')"
   ]
  },
  {
   "cell_type": "code",
   "execution_count": null,
   "metadata": {},
   "outputs": [],
   "source": []
  },
  {
   "cell_type": "code",
   "execution_count": null,
   "metadata": {},
   "outputs": [],
   "source": [
    "# test poly4 with manully input array, DH\n",
    "y1 = np.array([0.00067914, 0.00050809, 0.00060443, 0.00095565, 0.00094147, 0.00120585, 0.00168194, 0.00216041, 0.00209089, 0.00239944, 0.00218799, 0.00214025, 0.0022635,  0.00155437, 0.00143575, 0.00170442, 0.00139527, 0.00134593, 0.00192241, 0.0014839 ] )\n",
    "x1 = np.array([8.339998,  8.3410015, 8.3429985, 8.344002,  8.344997,  8.346002,  8.346997 ,8.3480015, 8.348997,  8.350002,  8.350999,  8.351996,  8.353002,  8.353999, 8.354997,  8.356003,  8.357001,  8.358,     8.358998,  8.359998 ])\n",
    "z = np.polyfit(x1, y1, 4)\n",
    "p = np.poly1d(z)\n",
    "xp = np.linspace(8.34, 8.36, 100)\n",
    "\n",
    "fig = plt.figure()\n",
    "ax1 = fig.add_subplot(1, 1, 1)\n",
    "ax1 = plt.plot(x1, y1, '.', xp, p(xp), '-')\n",
    "plt.show()\n",
    "\n",
    "dEFM_curve = np.polyder(p)\n",
    "xvals_g = np.roots(dEFM_curve)\n",
    "print(xvals_g)\n",
    "\n",
    "# choose the xvals in correct x-range\n",
    "xvals_g = xvals_g[(xvals_g >= 8.347) & (xvals_g <= 8.352)]\n",
    "peak_positions = xvals_g;\n",
    "print(peak_positions)\n",
    "\n",
    "# Xiao's way to choose peak position\n",
    "whiteline_pos = []\n",
    "whiteline_pos = np.squeeze(xp[np.argmax(np.polyval(z, xp), axis=0)])\n",
    "print(whiteline_pos)\n"
   ]
  },
  {
   "cell_type": "code",
   "execution_count": null,
   "metadata": {},
   "outputs": [],
   "source": [
    "# interp and gauss filter method for polyfit.\n",
    "from scipy.ndimage import gaussian_filter\n",
    "import matplotlib.pyplot as plt\n",
    "import numpy as np\n",
    "\n",
    "y1 = np.array([0.00067914, 0.00050809, 0.00060443, 0.00095565, 0.00094147, 0.00120585, 0.00168194, 0.00216041, 0.00209089, 0.00239944, 0.00218799, 0.00214025, 0.0022635,  0.00155437, 0.00143575, 0.00170442, 0.00139527, 0.00134593, 0.00192241, 0.0014839 ] )\n",
    "x1 = np.array([8.339998,  8.3410015, 8.3429985, 8.344002,  8.344997,  8.346002,  8.346997 ,8.3480015, 8.348997,  8.350002,  8.350999,  8.351996,  8.353002,  8.353999, 8.354997,  8.356003,  8.357001,  8.358,     8.358998,  8.359998 ])\n",
    "\n",
    "xvals = np.linspace(x1.min(), x1.max(), 200)\n",
    "yinterp = np.interp(xvals, x1, y1)\n",
    "\n",
    "x = xvals[50:150]\n",
    "y = yinterp[50:150]\n",
    "z = np.polyfit(x, y, 2)\n",
    "p = np.poly1d(z)\n",
    "xp = np.linspace(x.min(), x.max(), 200)\n",
    "\n",
    "fig = plt.figure()\n",
    "ax1 = fig.add_subplot(1, 1, 1)\n",
    "ax1 = plt.plot(x, y, '.', xp, p(xp), '-')\n",
    "\n",
    "\n",
    "y = gaussian_filter(y, sigma = 5)\n",
    "z = np.polyfit(x, y, 2)\n",
    "p = np.poly1d(z)\n",
    "\n",
    "fig3 = plt.figure()\n",
    "ax13 = fig3.add_subplot(1, 1, 1)\n",
    "ax13 = plt.plot(x, y, '.', xp, p(xp), '-')\n",
    "\n",
    "\n",
    "x = x1[5:15]\n",
    "y = y1[5:15]\n",
    "z = np.polyfit(x, y, 2)\n",
    "p = np.poly1d(z)\n",
    "xp = np.linspace(x.min(), x.max(), 200)\n",
    "\n",
    "fig2 = plt.figure()\n",
    "ax12 = fig2.add_subplot(1, 1, 1)\n",
    "ax12 = plt.plot(x, y, '.', xp, p(xp), '-')\n",
    "\n",
    "\n",
    "x = x1[5:15]\n",
    "y = y1[5:15]\n",
    "y = gaussian_filter(y, sigma = 1)\n",
    "z = np.polyfit(x, y, 2)\n",
    "p = np.poly1d(z)\n",
    "xp = np.linspace(x.min(), x.max(), 200)\n",
    "\n",
    "fig4 = plt.figure()\n",
    "ax14 = fig4.add_subplot(1, 1, 1)\n",
    "ax14 = plt.plot(x, y, '.', xp, p(xp), '-')\n",
    "\n",
    "\n",
    "plt.show()"
   ]
  }
 ],
 "metadata": {
  "kernelspec": {
   "display_name": "Python 3",
   "language": "python",
   "name": "python3"
  },
  "language_info": {
   "codemirror_mode": {
    "name": "ipython",
    "version": 3
   },
   "file_extension": ".py",
   "mimetype": "text/x-python",
   "name": "python",
   "nbconvert_exporter": "python",
   "pygments_lexer": "ipython3",
   "version": "3.7.4"
  }
 },
 "nbformat": 4,
 "nbformat_minor": 2
}
